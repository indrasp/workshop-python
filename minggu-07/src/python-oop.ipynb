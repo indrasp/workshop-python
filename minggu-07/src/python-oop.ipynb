{
 "cells": [
  {
   "cell_type": "code",
   "execution_count": 1,
   "metadata": {},
   "outputs": [],
   "source": [
    "class Dog: \n",
    "        pass"
   ]
  },
  {
   "cell_type": "code",
   "execution_count": 2,
   "metadata": {},
   "outputs": [],
   "source": [
    "class Dog:\n",
    "    # Initializer / Instance Attributes\n",
    "    def __init__(self, name):\n",
    "        self.name = name "
   ]
  },
  {
   "cell_type": "code",
   "execution_count": 3,
   "metadata": {},
   "outputs": [],
   "source": [
    "class Dog:\n",
    "    # class Attribute\n",
    "    kind = 'canine' \n",
    "    # Initializer / Instance Attributes\n",
    "    def __init__(self, name):\n",
    "        self.name = name"
   ]
  },
  {
   "cell_type": "code",
   "execution_count": 4,
   "metadata": {},
   "outputs": [
    {
     "name": "stdout",
     "output_type": "stream",
     "text": [
      "Fido is 5 and Buddy is 6.\n",
      "Fido is a canine!\n"
     ]
    }
   ],
   "source": [
    "class Dog:\n",
    "    # class Attribute\n",
    "    kind = 'canine' \n",
    "    # Initializer / Instance Attributes\n",
    "    def __init__(self, name,age):\n",
    "        self.name = name \n",
    "        self.age = age  \n",
    "# Instantiate the Dog object\n",
    "fido = Dog('Fido', 5)\n",
    "buddy = Dog('Buddy', 6)\n",
    "# Access the instance attributes\n",
    "print(\"{} is {} and {} is {}.\".format(\n",
    "    fido.name, fido.age, buddy.name, buddy.age))\n",
    "# Is fido a kind of canine?\n",
    "if fido.kind == \"canine\":\n",
    "    print(\"{0} is a {1}!\".format(fido.name, fido.kind))"
   ]
  },
  {
   "cell_type": "code",
   "execution_count": 5,
   "metadata": {},
   "outputs": [
    {
     "name": "stdout",
     "output_type": "stream",
     "text": [
      "Buddy is 6 years old\n",
      "Buddy says Guk Guk Guk\n"
     ]
    }
   ],
   "source": [
    "class Dog:\n",
    "    # class Attribute\n",
    "    kind = 'canine' \n",
    "    # Initializer / Instance Attributes\n",
    "    def __init__(self, name,age):\n",
    "        self.name = name \n",
    "        self.age = age\n",
    "# instance method\n",
    "    def description(self):\n",
    "        return \"{} is {} years old\".format(self.name, self.age)\n",
    "# instance method\n",
    "    def speak(self, sound):\n",
    "        return \"{} says {}\".format(self.name, sound)\n",
    "# Instantiate the Dog object\n",
    "buddy = Dog('Buddy', 6)\n",
    "# call our instance methods\n",
    "print(buddy.description())\n",
    "print(buddy.speak(\"Guk Guk Guk\"))"
   ]
  },
  {
   "cell_type": "code",
   "execution_count": 6,
   "metadata": {},
   "outputs": [
    {
     "name": "stdout",
     "output_type": "stream",
     "text": [
      "Buddy is 12 years old\n",
      "Buddy runs slowly\n",
      "True\n",
      "True\n",
      "False\n"
     ]
    },
    {
     "ename": "TypeError",
     "evalue": "isinstance() arg 2 must be a type or tuple of types",
     "output_type": "error",
     "traceback": [
      "\u001b[0;31m---------------------------------------------------------------------------\u001b[0m",
      "\u001b[0;31mTypeError\u001b[0m                                 Traceback (most recent call last)",
      "\u001b[0;32m<ipython-input-6-3b812817a688>\u001b[0m in \u001b[0;36m<module>\u001b[0;34m\u001b[0m\n\u001b[1;32m     37\u001b[0m \u001b[0mprint\u001b[0m\u001b[0;34m(\u001b[0m\u001b[0misinstance\u001b[0m\u001b[0;34m(\u001b[0m\u001b[0mjohnnywalker\u001b[0m\u001b[0;34m,\u001b[0m \u001b[0mBullDog\u001b[0m\u001b[0;34m)\u001b[0m\u001b[0;34m)\u001b[0m\u001b[0;34m\u001b[0m\u001b[0;34m\u001b[0m\u001b[0m\n\u001b[1;32m     38\u001b[0m \u001b[0;31m# Is julie and instance of jim?\u001b[0m\u001b[0;34m\u001b[0m\u001b[0;34m\u001b[0m\u001b[0;34m\u001b[0m\u001b[0m\n\u001b[0;32m---> 39\u001b[0;31m \u001b[0mprint\u001b[0m\u001b[0;34m(\u001b[0m\u001b[0misinstance\u001b[0m\u001b[0;34m(\u001b[0m\u001b[0mjulie\u001b[0m\u001b[0;34m,\u001b[0m \u001b[0mbuddy\u001b[0m\u001b[0;34m)\u001b[0m\u001b[0;34m)\u001b[0m\u001b[0;34m\u001b[0m\u001b[0;34m\u001b[0m\u001b[0m\n\u001b[0m",
      "\u001b[0;31mTypeError\u001b[0m: isinstance() arg 2 must be a type or tuple of types"
     ]
    }
   ],
   "source": [
    "# Parent class\n",
    "class Dog:\n",
    "    # class Attribute\n",
    "    kind = 'canine' \n",
    "    # Initializer / Instance Attributes\n",
    "    def __init__(self, name,age):\n",
    "        self.name = name \n",
    "        self.age = age\n",
    "# instance method\n",
    "    def description(self):\n",
    "        return \"{} is {} years old\".format(self.name, self.age)\n",
    "# instance method\n",
    "    def speak(self, sound):\n",
    "        return \"{} says {}\".format(self.name, sound)\n",
    "# Child class (inherits from Dog class)\n",
    "class RussellTerrier(Dog):\n",
    "    def run(self, speed):\n",
    "        return \"{} runs {}\".format(self.name, speed)\n",
    "# Child class (inherits from Dog class)\n",
    "class BullDog(Dog):\n",
    "    def run(self, speed):\n",
    "        return \"{} runs {}\".format(self.name, speed)\n",
    "# Child classes inherit attributes and\n",
    "# behaviors from the parent class\n",
    "buddy = BullDog(\"Buddy\", 12)\n",
    "print(buddy.description())\n",
    "# Child classes have specific attributes\n",
    "# and behaviors as well\n",
    "print(buddy.run(\"slowly\"))\n",
    "# Is Buddy an instance of Dog()?\n",
    "print(isinstance(buddy, Dog))\n",
    "# Is julie an instance of Dog()?\n",
    "julie = Dog(\"Julie\", 100)\n",
    "print(isinstance(julie, Dog))\n",
    "# Is johnny walker an instance of BullDog()\n",
    "johnnywalker = RussellTerrier(\"Johnny Walker\", 4)\n",
    "print(isinstance(johnnywalker, BullDog))\n",
    "# Is julie and instance of jim?\n",
    "print(isinstance(julie, buddy))"
   ]
  },
  {
   "cell_type": "code",
   "execution_count": null,
   "metadata": {},
   "outputs": [],
   "source": []
  }
 ],
 "metadata": {
  "kernelspec": {
   "display_name": "Python 3",
   "language": "python",
   "name": "python3"
  },
  "language_info": {
   "codemirror_mode": {
    "name": "ipython",
    "version": 3
   },
   "file_extension": ".py",
   "mimetype": "text/x-python",
   "name": "python",
   "nbconvert_exporter": "python",
   "pygments_lexer": "ipython3",
   "version": "3.8.6"
  }
 },
 "nbformat": 4,
 "nbformat_minor": 4
}
